{
 "cells": [
  {
   "attachments": {},
   "cell_type": "markdown",
   "metadata": {},
   "source": [
    "# CÁC THUẬT TOÁN GIẢM CHIỀU DỮ LIỆU DÀNH CHO TRỰC QUAN DỮ LIỆU:"
   ]
  },
  {
   "cell_type": "code",
   "execution_count": 50,
   "metadata": {},
   "outputs": [],
   "source": [
    "import numpy as np\n",
    "import pandas as pd\n",
    "import time\n",
    "import matplotlib.pyplot as plt\n",
    "import plotly.graph_objects as go\n",
    "import plotly.io as plt_io\n",
    "plt_io.renderers.default = \"notebook\"\n",
    "from IPython.display import display, Image\n",
    "\n",
    "import warnings\n",
    "warnings.filterwarnings(\"ignore\")"
   ]
  },
  {
   "cell_type": "code",
   "execution_count": 16,
   "metadata": {},
   "outputs": [],
   "source": [
    "def map_labels(pred, labels):\n",
    "    mapping = {\n",
    "        '0': -1, '1': -1, '2': -1, '3': -1, '4': -1,\n",
    "        '5': -1, '6': -1, '7': -1, '8': -1, '9': -1,\n",
    "        '10': -1, '11': -1, '12': -1, '13': -1\n",
    "    }\n",
    "    \n",
    "    for i in range(len(y)):\n",
    "        fill_done = True\n",
    "\n",
    "        for val in mapping.values():\n",
    "            if val == -1:\n",
    "                fill_done = False\n",
    "                break\n",
    "            \n",
    "        if fill_done:\n",
    "            break\n",
    "\n",
    "        if mapping[str(pred[i])] == -1:\n",
    "            mapping[str(pred[i])] = labels[i]\n",
    "\n",
    "    temp_labels = pred.copy()\n",
    "\n",
    "    for i in range(len(labels)):\n",
    "        temp_labels[i] = mapping[str(temp_labels[i])]\n",
    "        \n",
    "    return temp_labels"
   ]
  },
  {
   "cell_type": "markdown",
   "metadata": {},
   "source": [
    "### $\\textbf{1. PCA (Principle Component Analysis):}$"
   ]
  },
  {
   "cell_type": "markdown",
   "metadata": {},
   "source": [
    "- `PCA` hay còn gọi là *Phân tích thành phần chính* là một trong những thuật toán `unsupervised` giảm chiều dữ liệu được xem là phổ biến nhất. "
   ]
  },
  {
   "cell_type": "markdown",
   "metadata": {},
   "source": [
    "- Cơ chế hoạt động của `PCA` là tìm siêu phẳng (*hyperplane*) nằm gần dữ liệu nhất và `chiếu` dữ liệu lên siêu phẳng này mà vẫn `giữ` được hầu hết các `đặc tính` của dữ liệu."
   ]
  },
  {
   "cell_type": "markdown",
   "metadata": {},
   "source": [
    "- Trục tọa độ mà khi chiếu dữ liệu lên có thể giữ được phần lớn dữ liệu (*đặc trưng bằng* `amount of variance`) trên tập train được gọi là `Principle Components`."
   ]
  },
  {
   "cell_type": "markdown",
   "metadata": {},
   "source": [
    "- Thành phần thứ hai (*second principle component*) sẽ `trực giao` với thành phần thứ nhất, thành phần thứ ba sẽ `trực giao` với hai thành phần đầu,... tùy vào `số chiều` của dữ liệu. "
   ]
  },
  {
   "cell_type": "markdown",
   "metadata": {},
   "source": [
    "- Cho mục đích `trực quan` chúng ta sẽ gắn liền với `hai` hoặc `nhiều nhất là ba` thành phần chính của dữ liệu."
   ]
  },
  {
   "cell_type": "markdown",
   "metadata": {},
   "source": [
    "- Việc `chọn đúng siêu phẳng` để chiếu dữ liệu lên rất quan trọng để tìm ra được những thành phần giúp cho chúng ta giảm chiều dữ liệu hiệu quả."
   ]
  },
  {
   "cell_type": "markdown",
   "metadata": {},
   "source": [
    "#### $\\textbf{CÁC BƯỚC THỰC HIỆN PCA:}$"
   ]
  },
  {
   "cell_type": "markdown",
   "metadata": {},
   "source": [
    "1. Đầu tiên ta cần `xem xét dữ liệu` và `plot dữ liệu` (*nếu cần*) để quan sát dữ liệu:"
   ]
  },
  {
   "cell_type": "code",
   "execution_count": 5,
   "metadata": {},
   "outputs": [
    {
     "data": {
      "text/html": [
       "<div>\n",
       "<style scoped>\n",
       "    .dataframe tbody tr th:only-of-type {\n",
       "        vertical-align: middle;\n",
       "    }\n",
       "\n",
       "    .dataframe tbody tr th {\n",
       "        vertical-align: top;\n",
       "    }\n",
       "\n",
       "    .dataframe thead th {\n",
       "        text-align: right;\n",
       "    }\n",
       "</style>\n",
       "<table border=\"1\" class=\"dataframe\">\n",
       "  <thead>\n",
       "    <tr style=\"text-align: right;\">\n",
       "      <th></th>\n",
       "      <th>Unnamed: 0</th>\n",
       "      <th>labels</th>\n",
       "      <th>num_labels</th>\n",
       "      <th>FT0</th>\n",
       "      <th>FT1</th>\n",
       "      <th>FT2</th>\n",
       "      <th>FT3</th>\n",
       "      <th>FT4</th>\n",
       "      <th>FT5</th>\n",
       "      <th>FT6</th>\n",
       "      <th>...</th>\n",
       "      <th>FT38</th>\n",
       "      <th>FT39</th>\n",
       "      <th>FT40</th>\n",
       "      <th>FT41</th>\n",
       "      <th>FT42</th>\n",
       "      <th>FT43</th>\n",
       "      <th>FT44</th>\n",
       "      <th>FT45</th>\n",
       "      <th>FT46</th>\n",
       "      <th>FT47</th>\n",
       "    </tr>\n",
       "  </thead>\n",
       "  <tbody>\n",
       "    <tr>\n",
       "      <th>0</th>\n",
       "      <td>0</td>\n",
       "      <td>Drink_glass</td>\n",
       "      <td>0</td>\n",
       "      <td>2.694958</td>\n",
       "      <td>3.790299</td>\n",
       "      <td>6.710054</td>\n",
       "      <td>2.383583</td>\n",
       "      <td>5.213972</td>\n",
       "      <td>1.841685</td>\n",
       "      <td>1.867810</td>\n",
       "      <td>...</td>\n",
       "      <td>11.812205</td>\n",
       "      <td>11.086036</td>\n",
       "      <td>21.077241</td>\n",
       "      <td>183.620641</td>\n",
       "      <td>133.026637</td>\n",
       "      <td>465.492918</td>\n",
       "      <td>1449.887143</td>\n",
       "      <td>2039.181048</td>\n",
       "      <td>3610.008857</td>\n",
       "      <td>63.980880</td>\n",
       "    </tr>\n",
       "    <tr>\n",
       "      <th>1</th>\n",
       "      <td>1</td>\n",
       "      <td>Drink_glass</td>\n",
       "      <td>0</td>\n",
       "      <td>1.527453</td>\n",
       "      <td>0.974374</td>\n",
       "      <td>8.921903</td>\n",
       "      <td>2.015233</td>\n",
       "      <td>3.964369</td>\n",
       "      <td>1.127449</td>\n",
       "      <td>0.466952</td>\n",
       "      <td>...</td>\n",
       "      <td>9.928688</td>\n",
       "      <td>8.127150</td>\n",
       "      <td>20.714786</td>\n",
       "      <td>109.324003</td>\n",
       "      <td>73.826886</td>\n",
       "      <td>432.605228</td>\n",
       "      <td>687.353905</td>\n",
       "      <td>928.076963</td>\n",
       "      <td>4014.856571</td>\n",
       "      <td>50.457775</td>\n",
       "    </tr>\n",
       "    <tr>\n",
       "      <th>2</th>\n",
       "      <td>2</td>\n",
       "      <td>Drink_glass</td>\n",
       "      <td>0</td>\n",
       "      <td>2.319197</td>\n",
       "      <td>6.658395</td>\n",
       "      <td>6.480261</td>\n",
       "      <td>2.785700</td>\n",
       "      <td>2.460621</td>\n",
       "      <td>1.060052</td>\n",
       "      <td>1.167381</td>\n",
       "      <td>...</td>\n",
       "      <td>7.937667</td>\n",
       "      <td>13.900350</td>\n",
       "      <td>15.811646</td>\n",
       "      <td>68.065921</td>\n",
       "      <td>208.462817</td>\n",
       "      <td>253.144705</td>\n",
       "      <td>626.183143</td>\n",
       "      <td>1797.766667</td>\n",
       "      <td>1749.670571</td>\n",
       "      <td>44.578268</td>\n",
       "    </tr>\n",
       "    <tr>\n",
       "      <th>3</th>\n",
       "      <td>3</td>\n",
       "      <td>Drink_glass</td>\n",
       "      <td>0</td>\n",
       "      <td>2.471946</td>\n",
       "      <td>2.783247</td>\n",
       "      <td>9.031703</td>\n",
       "      <td>2.035693</td>\n",
       "      <td>2.022640</td>\n",
       "      <td>0.665546</td>\n",
       "      <td>0.933905</td>\n",
       "      <td>...</td>\n",
       "      <td>11.293990</td>\n",
       "      <td>11.551437</td>\n",
       "      <td>18.619167</td>\n",
       "      <td>143.816928</td>\n",
       "      <td>163.188645</td>\n",
       "      <td>346.067768</td>\n",
       "      <td>875.068762</td>\n",
       "      <td>985.269524</td>\n",
       "      <td>3197.222952</td>\n",
       "      <td>43.722931</td>\n",
       "    </tr>\n",
       "    <tr>\n",
       "      <th>4</th>\n",
       "      <td>4</td>\n",
       "      <td>Drink_glass</td>\n",
       "      <td>0</td>\n",
       "      <td>1.283190</td>\n",
       "      <td>1.631856</td>\n",
       "      <td>8.931548</td>\n",
       "      <td>2.400873</td>\n",
       "      <td>3.597436</td>\n",
       "      <td>1.194292</td>\n",
       "      <td>0.466952</td>\n",
       "      <td>...</td>\n",
       "      <td>11.768623</td>\n",
       "      <td>9.485888</td>\n",
       "      <td>26.825795</td>\n",
       "      <td>150.283564</td>\n",
       "      <td>95.972407</td>\n",
       "      <td>727.152448</td>\n",
       "      <td>1046.724374</td>\n",
       "      <td>1276.559294</td>\n",
       "      <td>6734.387238</td>\n",
       "      <td>61.130331</td>\n",
       "    </tr>\n",
       "  </tbody>\n",
       "</table>\n",
       "<p>5 rows × 51 columns</p>\n",
       "</div>"
      ],
      "text/plain": [
       "   Unnamed: 0       labels  num_labels       FT0       FT1       FT2  \\\n",
       "0           0  Drink_glass           0  2.694958  3.790299  6.710054   \n",
       "1           1  Drink_glass           0  1.527453  0.974374  8.921903   \n",
       "2           2  Drink_glass           0  2.319197  6.658395  6.480261   \n",
       "3           3  Drink_glass           0  2.471946  2.783247  9.031703   \n",
       "4           4  Drink_glass           0  1.283190  1.631856  8.931548   \n",
       "\n",
       "        FT3       FT4       FT5       FT6  ...       FT38       FT39  \\\n",
       "0  2.383583  5.213972  1.841685  1.867810  ...  11.812205  11.086036   \n",
       "1  2.015233  3.964369  1.127449  0.466952  ...   9.928688   8.127150   \n",
       "2  2.785700  2.460621  1.060052  1.167381  ...   7.937667  13.900350   \n",
       "3  2.035693  2.022640  0.665546  0.933905  ...  11.293990  11.551437   \n",
       "4  2.400873  3.597436  1.194292  0.466952  ...  11.768623   9.485888   \n",
       "\n",
       "        FT40        FT41        FT42        FT43         FT44         FT45  \\\n",
       "0  21.077241  183.620641  133.026637  465.492918  1449.887143  2039.181048   \n",
       "1  20.714786  109.324003   73.826886  432.605228   687.353905   928.076963   \n",
       "2  15.811646   68.065921  208.462817  253.144705   626.183143  1797.766667   \n",
       "3  18.619167  143.816928  163.188645  346.067768   875.068762   985.269524   \n",
       "4  26.825795  150.283564   95.972407  727.152448  1046.724374  1276.559294   \n",
       "\n",
       "          FT46       FT47  \n",
       "0  3610.008857  63.980880  \n",
       "1  4014.856571  50.457775  \n",
       "2  1749.670571  44.578268  \n",
       "3  3197.222952  43.722931  \n",
       "4  6734.387238  61.130331  \n",
       "\n",
       "[5 rows x 51 columns]"
      ]
     },
     "metadata": {},
     "output_type": "display_data"
    }
   ],
   "source": [
    "data = pd.read_csv ('data3.csv')\n",
    "display (data.head (5))"
   ]
  },
  {
   "cell_type": "code",
   "execution_count": 20,
   "metadata": {},
   "outputs": [],
   "source": [
    "X = data.drop(columns=['Unnamed: 0', 'labels', 'num_labels'])\n",
    "y = data['labels']"
   ]
  },
  {
   "cell_type": "markdown",
   "metadata": {},
   "source": [
    "2. Nếu các dữ liệu nằm ở các khoảng khác nhau, ta nên `chuẩn hóa dữ liệu` để giảm chiều được hiệu quả:"
   ]
  },
  {
   "cell_type": "code",
   "execution_count": 21,
   "metadata": {},
   "outputs": [],
   "source": [
    "from sklearn.preprocessing import MinMaxScaler, StandardScaler, PowerTransformer\n",
    "scaler = PowerTransformer()\n",
    "scaler.fit(X)\n",
    "X_scaled = scaler.transform(X)\n",
    "\n",
    "from sklearn.preprocessing import LabelEncoder\n",
    "LaEn = LabelEncoder()\n",
    "LaEn.fit(y)\n",
    "y_en = LaEn.transform(y)"
   ]
  },
  {
   "cell_type": "markdown",
   "metadata": {},
   "source": [
    "##### $\\textbf{Dùng thư viện `sklearn`:}$"
   ]
  },
  {
   "cell_type": "code",
   "execution_count": 22,
   "metadata": {},
   "outputs": [],
   "source": [
    "from sklearn.decomposition import PCA\n",
    "\n",
    "pca = PCA (n_components = 10, random_state=1089)\n",
    "data_PCA = pca.fit (X_scaled).transform (X_scaled)"
   ]
  },
  {
   "cell_type": "code",
   "execution_count": 23,
   "metadata": {},
   "outputs": [
    {
     "name": "stdout",
     "output_type": "stream",
     "text": [
      "Explained variance ratio (first ten components): \n",
      "[0.2428756  0.21223876 0.1783519  0.07952954 0.04494329 0.039571\n",
      " 0.02617957 0.02445624 0.01786287 0.01686655]\n"
     ]
    },
    {
     "data": {
      "text/plain": [
       "0.8828753187554325"
      ]
     },
     "execution_count": 23,
     "metadata": {},
     "output_type": "execute_result"
    }
   ],
   "source": [
    "print ('Explained variance ratio (first ten components): \\n%s'\n",
    "    % str (pca.explained_variance_ratio_))\n",
    "\n",
    "sum(pca.explained_variance_ratio_)"
   ]
  },
  {
   "cell_type": "code",
   "execution_count": 24,
   "metadata": {},
   "outputs": [
    {
     "data": {
      "text/html": [
       "<div>\n",
       "<style scoped>\n",
       "    .dataframe tbody tr th:only-of-type {\n",
       "        vertical-align: middle;\n",
       "    }\n",
       "\n",
       "    .dataframe tbody tr th {\n",
       "        vertical-align: top;\n",
       "    }\n",
       "\n",
       "    .dataframe thead th {\n",
       "        text-align: right;\n",
       "    }\n",
       "</style>\n",
       "<table border=\"1\" class=\"dataframe\">\n",
       "  <thead>\n",
       "    <tr style=\"text-align: right;\">\n",
       "      <th></th>\n",
       "      <th>PC1</th>\n",
       "      <th>PC2</th>\n",
       "      <th>PC3</th>\n",
       "      <th>PC4</th>\n",
       "      <th>PC5</th>\n",
       "      <th>PC6</th>\n",
       "      <th>PC7</th>\n",
       "      <th>PC8</th>\n",
       "      <th>PC9</th>\n",
       "      <th>PC10</th>\n",
       "    </tr>\n",
       "  </thead>\n",
       "  <tbody>\n",
       "    <tr>\n",
       "      <th>0</th>\n",
       "      <td>-3.900776</td>\n",
       "      <td>3.413824</td>\n",
       "      <td>1.074531</td>\n",
       "      <td>0.731540</td>\n",
       "      <td>-2.843216</td>\n",
       "      <td>0.472149</td>\n",
       "      <td>1.314840</td>\n",
       "      <td>-2.594886</td>\n",
       "      <td>-0.671618</td>\n",
       "      <td>0.363083</td>\n",
       "    </tr>\n",
       "    <tr>\n",
       "      <th>1</th>\n",
       "      <td>-5.447159</td>\n",
       "      <td>2.404792</td>\n",
       "      <td>-1.139556</td>\n",
       "      <td>-2.440313</td>\n",
       "      <td>1.302580</td>\n",
       "      <td>-0.477933</td>\n",
       "      <td>-1.671628</td>\n",
       "      <td>-0.670473</td>\n",
       "      <td>-1.701619</td>\n",
       "      <td>0.120980</td>\n",
       "    </tr>\n",
       "    <tr>\n",
       "      <th>2</th>\n",
       "      <td>-5.517813</td>\n",
       "      <td>0.550271</td>\n",
       "      <td>-1.466039</td>\n",
       "      <td>2.594298</td>\n",
       "      <td>-2.928699</td>\n",
       "      <td>1.051387</td>\n",
       "      <td>-1.085567</td>\n",
       "      <td>-1.021418</td>\n",
       "      <td>-1.552004</td>\n",
       "      <td>0.320423</td>\n",
       "    </tr>\n",
       "    <tr>\n",
       "      <th>3</th>\n",
       "      <td>-5.145028</td>\n",
       "      <td>2.217152</td>\n",
       "      <td>-2.084208</td>\n",
       "      <td>-1.086351</td>\n",
       "      <td>0.019246</td>\n",
       "      <td>-0.027569</td>\n",
       "      <td>-1.307235</td>\n",
       "      <td>-0.243417</td>\n",
       "      <td>-0.669058</td>\n",
       "      <td>0.673836</td>\n",
       "    </tr>\n",
       "    <tr>\n",
       "      <th>4</th>\n",
       "      <td>-3.459956</td>\n",
       "      <td>4.129119</td>\n",
       "      <td>0.402800</td>\n",
       "      <td>-2.116078</td>\n",
       "      <td>1.222313</td>\n",
       "      <td>-0.125950</td>\n",
       "      <td>-0.505973</td>\n",
       "      <td>0.890509</td>\n",
       "      <td>-2.035717</td>\n",
       "      <td>0.287007</td>\n",
       "    </tr>\n",
       "  </tbody>\n",
       "</table>\n",
       "</div>"
      ],
      "text/plain": [
       "        PC1       PC2       PC3       PC4       PC5       PC6       PC7  \\\n",
       "0 -3.900776  3.413824  1.074531  0.731540 -2.843216  0.472149  1.314840   \n",
       "1 -5.447159  2.404792 -1.139556 -2.440313  1.302580 -0.477933 -1.671628   \n",
       "2 -5.517813  0.550271 -1.466039  2.594298 -2.928699  1.051387 -1.085567   \n",
       "3 -5.145028  2.217152 -2.084208 -1.086351  0.019246 -0.027569 -1.307235   \n",
       "4 -3.459956  4.129119  0.402800 -2.116078  1.222313 -0.125950 -0.505973   \n",
       "\n",
       "        PC8       PC9      PC10  \n",
       "0 -2.594886 -0.671618  0.363083  \n",
       "1 -0.670473 -1.701619  0.120980  \n",
       "2 -1.021418 -1.552004  0.320423  \n",
       "3 -0.243417 -0.669058  0.673836  \n",
       "4  0.890509 -2.035717  0.287007  "
      ]
     },
     "execution_count": 24,
     "metadata": {},
     "output_type": "execute_result"
    }
   ],
   "source": [
    "n = pca.n_components_\n",
    "cols = ['PC'+str(i) for i in range(1,n+1)]\n",
    "df_PCA = pd.DataFrame(data=data_PCA, columns=cols)\n",
    "df_PCA.head()"
   ]
  },
  {
   "cell_type": "code",
   "execution_count": 25,
   "metadata": {},
   "outputs": [
    {
     "data": {
      "image/png": "[encoded data removed]",
      "text/plain": [
       "<Figure size 432x432 with 1 Axes>"
      ]
     },
     "metadata": {
      "needs_background": "light"
     },
     "output_type": "display_data"
    }
   ],
   "source": [
    "from sklearn.cluster import KMeans\n",
    "# Run the Kmeans algorithm and get the index of data points clusters\n",
    "\n",
    "sse = []\n",
    "list_k = list(range(1, 20))\n",
    "\n",
    "for k in list_k:\n",
    "    km = KMeans(n_clusters=k)\n",
    "    km.fit(X_scaled)\n",
    "    sse.append(km.inertia_)\n",
    "\n",
    "# Plot sse against k\n",
    "plt.figure(figsize=(6, 6))\n",
    "plt.plot(list_k, sse, '-o')\n",
    "plt.xlabel(r'Number of clusters *k*')\n",
    "plt.ylabel('Sum of squared distance');"
   ]
  },
  {
   "cell_type": "code",
   "execution_count": 26,
   "metadata": {},
   "outputs": [
    {
     "data": {
      "text/html": [
       "<div>\n",
       "<style scoped>\n",
       "    .dataframe tbody tr th:only-of-type {\n",
       "        vertical-align: middle;\n",
       "    }\n",
       "\n",
       "    .dataframe tbody tr th {\n",
       "        vertical-align: top;\n",
       "    }\n",
       "\n",
       "    .dataframe thead th {\n",
       "        text-align: right;\n",
       "    }\n",
       "</style>\n",
       "<table border=\"1\" class=\"dataframe\">\n",
       "  <thead>\n",
       "    <tr style=\"text-align: right;\">\n",
       "      <th></th>\n",
       "      <th>PC1</th>\n",
       "      <th>PC2</th>\n",
       "      <th>PC3</th>\n",
       "      <th>PC4</th>\n",
       "      <th>PC5</th>\n",
       "      <th>PC6</th>\n",
       "      <th>PC7</th>\n",
       "      <th>PC8</th>\n",
       "      <th>PC9</th>\n",
       "      <th>PC10</th>\n",
       "      <th>Cluster</th>\n",
       "    </tr>\n",
       "  </thead>\n",
       "  <tbody>\n",
       "    <tr>\n",
       "      <th>0</th>\n",
       "      <td>-3.900776</td>\n",
       "      <td>3.413824</td>\n",
       "      <td>1.074531</td>\n",
       "      <td>0.731540</td>\n",
       "      <td>-2.843216</td>\n",
       "      <td>0.472149</td>\n",
       "      <td>1.314840</td>\n",
       "      <td>-2.594886</td>\n",
       "      <td>-0.671618</td>\n",
       "      <td>0.363083</td>\n",
       "      <td>8</td>\n",
       "    </tr>\n",
       "    <tr>\n",
       "      <th>1</th>\n",
       "      <td>-5.447159</td>\n",
       "      <td>2.404792</td>\n",
       "      <td>-1.139556</td>\n",
       "      <td>-2.440313</td>\n",
       "      <td>1.302580</td>\n",
       "      <td>-0.477933</td>\n",
       "      <td>-1.671628</td>\n",
       "      <td>-0.670473</td>\n",
       "      <td>-1.701619</td>\n",
       "      <td>0.120980</td>\n",
       "      <td>8</td>\n",
       "    </tr>\n",
       "    <tr>\n",
       "      <th>2</th>\n",
       "      <td>-5.517813</td>\n",
       "      <td>0.550271</td>\n",
       "      <td>-1.466039</td>\n",
       "      <td>2.594298</td>\n",
       "      <td>-2.928699</td>\n",
       "      <td>1.051387</td>\n",
       "      <td>-1.085567</td>\n",
       "      <td>-1.021418</td>\n",
       "      <td>-1.552004</td>\n",
       "      <td>0.320423</td>\n",
       "      <td>8</td>\n",
       "    </tr>\n",
       "    <tr>\n",
       "      <th>3</th>\n",
       "      <td>-5.145028</td>\n",
       "      <td>2.217152</td>\n",
       "      <td>-2.084208</td>\n",
       "      <td>-1.086351</td>\n",
       "      <td>0.019246</td>\n",
       "      <td>-0.027569</td>\n",
       "      <td>-1.307235</td>\n",
       "      <td>-0.243417</td>\n",
       "      <td>-0.669058</td>\n",
       "      <td>0.673836</td>\n",
       "      <td>8</td>\n",
       "    </tr>\n",
       "    <tr>\n",
       "      <th>4</th>\n",
       "      <td>-3.459956</td>\n",
       "      <td>4.129119</td>\n",
       "      <td>0.402800</td>\n",
       "      <td>-2.116078</td>\n",
       "      <td>1.222313</td>\n",
       "      <td>-0.125950</td>\n",
       "      <td>-0.505973</td>\n",
       "      <td>0.890509</td>\n",
       "      <td>-2.035717</td>\n",
       "      <td>0.287007</td>\n",
       "      <td>8</td>\n",
       "    </tr>\n",
       "    <tr>\n",
       "      <th>5</th>\n",
       "      <td>-6.034230</td>\n",
       "      <td>0.181407</td>\n",
       "      <td>-2.697628</td>\n",
       "      <td>-4.265914</td>\n",
       "      <td>0.458393</td>\n",
       "      <td>-0.267109</td>\n",
       "      <td>-0.972624</td>\n",
       "      <td>0.923924</td>\n",
       "      <td>-0.523742</td>\n",
       "      <td>0.366706</td>\n",
       "      <td>3</td>\n",
       "    </tr>\n",
       "    <tr>\n",
       "      <th>6</th>\n",
       "      <td>-5.655054</td>\n",
       "      <td>1.912264</td>\n",
       "      <td>0.932673</td>\n",
       "      <td>-0.927683</td>\n",
       "      <td>-1.318370</td>\n",
       "      <td>-0.068816</td>\n",
       "      <td>-0.267885</td>\n",
       "      <td>-0.221836</td>\n",
       "      <td>-0.105808</td>\n",
       "      <td>-0.589187</td>\n",
       "      <td>8</td>\n",
       "    </tr>\n",
       "    <tr>\n",
       "      <th>7</th>\n",
       "      <td>-5.862554</td>\n",
       "      <td>2.206742</td>\n",
       "      <td>-0.161136</td>\n",
       "      <td>-2.369760</td>\n",
       "      <td>-0.852519</td>\n",
       "      <td>-0.739211</td>\n",
       "      <td>0.327988</td>\n",
       "      <td>-0.829802</td>\n",
       "      <td>-0.289591</td>\n",
       "      <td>0.675120</td>\n",
       "      <td>8</td>\n",
       "    </tr>\n",
       "    <tr>\n",
       "      <th>8</th>\n",
       "      <td>-5.425043</td>\n",
       "      <td>2.562701</td>\n",
       "      <td>-0.564843</td>\n",
       "      <td>-0.004613</td>\n",
       "      <td>-1.750214</td>\n",
       "      <td>0.468554</td>\n",
       "      <td>0.489462</td>\n",
       "      <td>-0.817312</td>\n",
       "      <td>-1.027160</td>\n",
       "      <td>0.289725</td>\n",
       "      <td>8</td>\n",
       "    </tr>\n",
       "    <tr>\n",
       "      <th>9</th>\n",
       "      <td>-4.502974</td>\n",
       "      <td>1.237832</td>\n",
       "      <td>-0.059155</td>\n",
       "      <td>2.303030</td>\n",
       "      <td>-2.197991</td>\n",
       "      <td>1.332751</td>\n",
       "      <td>0.194365</td>\n",
       "      <td>-0.497203</td>\n",
       "      <td>-0.850331</td>\n",
       "      <td>1.038379</td>\n",
       "      <td>8</td>\n",
       "    </tr>\n",
       "  </tbody>\n",
       "</table>\n",
       "</div>"
      ],
      "text/plain": [
       "        PC1       PC2       PC3       PC4       PC5       PC6       PC7  \\\n",
       "0 -3.900776  3.413824  1.074531  0.731540 -2.843216  0.472149  1.314840   \n",
       "1 -5.447159  2.404792 -1.139556 -2.440313  1.302580 -0.477933 -1.671628   \n",
       "2 -5.517813  0.550271 -1.466039  2.594298 -2.928699  1.051387 -1.085567   \n",
       "3 -5.145028  2.217152 -2.084208 -1.086351  0.019246 -0.027569 -1.307235   \n",
       "4 -3.459956  4.129119  0.402800 -2.116078  1.222313 -0.125950 -0.505973   \n",
       "5 -6.034230  0.181407 -2.697628 -4.265914  0.458393 -0.267109 -0.972624   \n",
       "6 -5.655054  1.912264  0.932673 -0.927683 -1.318370 -0.068816 -0.267885   \n",
       "7 -5.862554  2.206742 -0.161136 -2.369760 -0.852519 -0.739211  0.327988   \n",
       "8 -5.425043  2.562701 -0.564843 -0.004613 -1.750214  0.468554  0.489462   \n",
       "9 -4.502974  1.237832 -0.059155  2.303030 -2.197991  1.332751  0.194365   \n",
       "\n",
       "        PC8       PC9      PC10  Cluster  \n",
       "0 -2.594886 -0.671618  0.363083        8  \n",
       "1 -0.670473 -1.701619  0.120980        8  \n",
       "2 -1.021418 -1.552004  0.320423        8  \n",
       "3 -0.243417 -0.669058  0.673836        8  \n",
       "4  0.890509 -2.035717  0.287007        8  \n",
       "5  0.923924 -0.523742  0.366706        3  \n",
       "6 -0.221836 -0.105808 -0.589187        8  \n",
       "7 -0.829802 -0.289591  0.675120        8  \n",
       "8 -0.817312 -1.027160  0.289725        8  \n",
       "9 -0.497203 -0.850331  1.038379        8  "
      ]
     },
     "execution_count": 26,
     "metadata": {},
     "output_type": "execute_result"
    }
   ],
   "source": [
    "kmean = KMeans(n_clusters=14, random_state=89)\n",
    "df_PCA['Cluster'] = kmean.fit_predict(df_PCA)\n",
    "\n",
    "df_PCA.head(10)"
   ]
  },
  {
   "cell_type": "code",
   "execution_count": 27,
   "metadata": {},
   "outputs": [
    {
     "name": "stdout",
     "output_type": "stream",
     "text": [
      "0.7496196830575581\n"
     ]
    }
   ],
   "source": [
    "from sklearn.metrics import accuracy_score, completeness_score\n",
    "\n",
    "mapped_pred = map_labels(df_PCA['Cluster'], y_en)\n",
    "print(completeness_score(y_en, mapped_pred))"
   ]
  },
  {
   "cell_type": "markdown",
   "metadata": {},
   "source": [
    "### $\\textbf{2. t-SNE (t-distributed Stochastic Neighbour Embedding):}$"
   ]
  },
  {
   "cell_type": "markdown",
   "metadata": {},
   "source": [
    "- `t-SNE` là thuật toán đựơc tạo ra năm $2008$ nhằm mục đích phù hợp với việc trực quan các bộ dữ liệu có `số chiều lớn`."
   ]
  },
  {
   "cell_type": "markdown",
   "metadata": {},
   "source": [
    "- `t-SNE` sẽ lấy tập dữ liệu có `số chiều lớn` và cố `giảm chiều nó thành biểu đồ` có `số chiều nhỏ hơn` mà vẫn `giữ lại` các thông tin lân cận của các điểm dữ liệu."
   ]
  },
  {
   "cell_type": "markdown",
   "metadata": {},
   "source": [
    "- `t-SNE` có thể làm như thế vì nó hoạt động theo cơ chế `cung cấp` cho mỗi điểm dữ liệu một `vị trí` trên biểu đồ $2$- chiều hoặc $3$- chiều."
   ]
  },
  {
   "cell_type": "markdown",
   "metadata": {},
   "source": [
    "- Phương pháp này `tìm` các cluster (*cụm*) trong dữ liệu đảm bảo có một embedding (*phép nhúng*) `bảo toàn ý nghĩa dữ liệu`."
   ]
  },
  {
   "cell_type": "markdown",
   "metadata": {},
   "source": [
    "- `t-SNE` giảm chiều dữ liệu khi mô hình hóa các `đối tượng tương tự nhau` bằng các điểm ở `gần` nhau và các `đối tượng không tương tự` nhau bằng các điểm ở `xa` nhau."
   ]
  },
  {
   "cell_type": "code",
   "execution_count": null,
   "metadata": {},
   "outputs": [],
   "source": [
    "from IPython.display import Image"
   ]
  },
  {
   "cell_type": "markdown",
   "metadata": {},
   "source": [
    "- Công thức tính `sự tương đồng` giữa hai điểm $x_i, x_j$ trong không gian `gốc`:"
   ]
  },
  {
   "cell_type": "code",
   "execution_count": null,
   "metadata": {},
   "outputs": [
    {
     "data": {
      "image/png": "[encoded data removed]",
      "text/plain": [
       "<IPython.core.display.Image object>"
      ]
     },
     "execution_count": 5,
     "metadata": {
      "image/png": {
       "height": 300,
       "width": 800
      }
     },
     "output_type": "execute_result"
    }
   ],
   "source": [
    "Image ('pij.png', width = 800, height = 300)"
   ]
  },
  {
   "cell_type": "markdown",
   "metadata": {},
   "source": [
    "- Công thức tính `sự tương đồng` giữa $y_i, y_j$ trong không gian `mới`:"
   ]
  },
  {
   "cell_type": "code",
   "execution_count": null,
   "metadata": {},
   "outputs": [
    {
     "data": {
      "image/png": "[encoded data removed]",
      "text/plain": [
       "<IPython.core.display.Image object>"
      ]
     },
     "execution_count": 6,
     "metadata": {
      "image/png": {
       "height": 300,
       "width": 800
      }
     },
     "output_type": "execute_result"
    }
   ],
   "source": [
    "Image ('qij.png', width = 800, height = 300)"
   ]
  },
  {
   "cell_type": "markdown",
   "metadata": {},
   "source": [
    "- Công thức tính sai khác giữa hai phân phối bằng `KL-divergence`:"
   ]
  },
  {
   "cell_type": "code",
   "execution_count": null,
   "metadata": {},
   "outputs": [
    {
     "data": {
      "image/png": "[encoded data removed]",
      "text/plain": [
       "<IPython.core.display.Image object>"
      ]
     },
     "execution_count": 7,
     "metadata": {
      "image/png": {
       "height": 200,
       "width": 800
      }
     },
     "output_type": "execute_result"
    }
   ],
   "source": [
    "Image ('KL.png', width = 800, height = 200)"
   ]
  },
  {
   "cell_type": "markdown",
   "metadata": {},
   "source": [
    "- Đạo hàm $C$ để cập nhật $y_i$ (*gradient descent*):"
   ]
  },
  {
   "cell_type": "code",
   "execution_count": null,
   "metadata": {},
   "outputs": [
    {
     "data": {
      "image/png": "[encoded data removed]",
      "text/plain": [
       "<IPython.core.display.Image object>"
      ]
     },
     "execution_count": 8,
     "metadata": {
      "image/png": {
       "height": 200,
       "width": 800
      }
     },
     "output_type": "execute_result"
    }
   ],
   "source": [
    "Image ('gradient_descent.png', width = 800, height = 200)"
   ]
  },
  {
   "cell_type": "code",
   "execution_count": 28,
   "metadata": {},
   "outputs": [
    {
     "name": "stderr",
     "output_type": "stream",
     "text": [
      "/home/zlatantien/anaconda3/lib/python3.9/site-packages/sklearn/manifold/_t_sne.py:780: FutureWarning: The default initialization in TSNE will change from 'random' to 'pca' in 1.2.\n",
      "  warnings.warn(\n",
      "/home/zlatantien/anaconda3/lib/python3.9/site-packages/sklearn/manifold/_t_sne.py:790: FutureWarning: The default learning rate in TSNE will change from 200.0 to 'auto' in 1.2.\n",
      "  warnings.warn(\n"
     ]
    }
   ],
   "source": [
    "from sklearn.manifold import TSNE\n",
    "\n",
    "tsne = TSNE(random_state=42, n_components=3, verbose=0,\n",
    "            perplexity=40, n_iter=300).fit_transform(X_scaled)"
   ]
  },
  {
   "cell_type": "code",
   "execution_count": 40,
   "metadata": {},
   "outputs": [
    {
     "name": "stderr",
     "output_type": "stream",
     "text": [
      "/tmp/ipykernel_14955/1140153462.py:1: MatplotlibDeprecationWarning:\n",
      "\n",
      "Calling gca() with keyword arguments was deprecated in Matplotlib 3.4. Starting two minor releases later, gca() will take no keyword arguments. The gca() function should only be used to get the current axes, or if no axes exist, create new axes with default keyword arguments. To create a new axes with non-default arguments, use plt.axes() or plt.subplot().\n",
      "\n"
     ]
    },
    {
     "data": {
      "image/png": "[encoded data removed]",
      "text/plain": [
       "<Figure size 1152x720 with 1 Axes>"
      ]
     },
     "metadata": {
      "needs_background": "light"
     },
     "output_type": "display_data"
    }
   ],
   "source": [
    "ax = plt.figure(figsize=(16,10)).gca(projection='3d')\n",
    "ax.scatter(\n",
    "    xs=tsne[:,0], \n",
    "    ys=tsne[:,1], \n",
    "    zs=tsne[:,2], \n",
    "    c=y_en, \n",
    "    cmap='tab10'\n",
    ")\n",
    "ax.set_xlabel('pca-one')\n",
    "ax.set_ylabel('pca-two')\n",
    "ax.set_zlabel('pca-three')\n",
    "plt.show()"
   ]
  },
  {
   "cell_type": "markdown",
   "metadata": {},
   "source": [
    "### $\\textbf{3. LDA (Linear Discriminant Analysis):}$"
   ]
  },
  {
   "cell_type": "markdown",
   "metadata": {},
   "source": [
    "- `LDA` là thuật toán `supervised` hiệu quả không chỉ trong `giảm chiều dữ liệu` mà còn là thuật toán hữu hiệu trong bài toán `phân loại` (*classification*)."
   ]
  },
  {
   "cell_type": "markdown",
   "metadata": {},
   "source": [
    "- Đích đến của thuật toán này là chiếu bộ dữ liệu lên không gian có chiều nhỏ hơn với khả năng `phân loại` tốt, tránh overfitting và giảm chi phí tính toán."
   ]
  },
  {
   "cell_type": "markdown",
   "metadata": {},
   "source": [
    "- Tương đồng với cách tiếp cận nhưng thay vì tìm thành phần chính có `percent_of_variance_explained` nhiều nhất như `PCA`, `LDA` ưu tiên tìm thành phần có thể `phản ánh rõ nhất sự phân lớp` giữa các class của dữ liệu."
   ]
  },
  {
   "cell_type": "markdown",
   "metadata": {},
   "source": [
    "- Vậy để dễ dàng `classify` thì `LDA` sẽ cố `tăng` khoảng cách giữa hai kỳ vọng và `giảm` độ lệch chuẩn của các bộ dữ liệu."
   ]
  },
  {
   "cell_type": "markdown",
   "metadata": {},
   "source": [
    "- Trong `LDA` cho `Multi-class Classification Problems`, ta sẽ cố `tăng sự khác biệt giữa các class` và `giảm sự khác biệt trong từng thành phần của cùng class`."
   ]
  },
  {
   "cell_type": "markdown",
   "metadata": {},
   "source": [
    "- Độ phân tán của một tập dữ liệu được tính bằng `tổng bình phương khoảng cách từ mỗi điểm tới vector kỳ vọng của chúng`. "
   ]
  },
  {
   "cell_type": "markdown",
   "metadata": {},
   "source": [
    "- Nếu tất cả các điểm `gần vector kỳ vọng` thì `độ phân tán` của tập dữ liệu coi là `nhỏ`. "
   ]
  },
  {
   "cell_type": "markdown",
   "metadata": {},
   "source": [
    "- Ngược lại khi `các điểm xa trung tâm` thì tập này được xem là `độ phân tán cao`. "
   ]
  },
  {
   "cell_type": "markdown",
   "metadata": {},
   "source": [
    "- Để đại diện cho sự tương đồng giữa các thành phần trong `cùng một class`, người ta xét đến `within-class matrix`."
   ]
  },
  {
   "cell_type": "markdown",
   "metadata": {},
   "source": [
    "- Tương tự để đại diện cho sự khác nhau `giữa các class`, ta xét `between-class matrix`."
   ]
  },
  {
   "cell_type": "markdown",
   "metadata": {},
   "source": [
    "#### $\\textbf{CÁC BƯỚC THỰC HIỆN LDA:}$"
   ]
  },
  {
   "cell_type": "markdown",
   "metadata": {},
   "source": [
    "- Ở đây không đề cập các bước chi tiết LDA vì đã làm trong bài tập thực hành HDA Lab 02, nhưng LDA áp dụng cho các bài toán supervised learning nên không dùng được cho bài toán của chúng ta. "
   ]
  },
  {
   "cell_type": "markdown",
   "metadata": {},
   "source": [
    "##### $\\textbf{Hoặc chúng ta có thể dùng thư viện `sklearn`:}$"
   ]
  },
  {
   "cell_type": "markdown",
   "metadata": {},
   "source": [
    "### $\\textbf{4. UMAP (Uniform Manifold Approximation and Projection):}$"
   ]
  },
  {
   "cell_type": "markdown",
   "metadata": {},
   "source": [
    "- `UMAP` được tạo ra năm $2018$ để phục vụ đa dạng mục đích `học tập` và `giảm chiều dữ liệu`."
   ]
  },
  {
   "cell_type": "markdown",
   "metadata": {},
   "source": [
    "- `UMAP` là phương pháp giảm chiều dữ liệu dùng cho trực quan hóa dữ liệu tương tự `t-SNE` nhưng dùng chung cho `giảm chiều dữ liệu phi tuyến`, rất `hiệu quả` cho việc `trực quan` các cluster/group của các điểm dữ liệu và các quan hệ gần gũi của chúng."
   ]
  },
  {
   "cell_type": "markdown",
   "metadata": {},
   "source": [
    "- Đơn giản, tương tự `t-SNE` nhưng với `tốc dộ xử lý cao` hơn, vì thế `nhanh hơn` và `trực quan tốt hơn`. "
   ]
  },
  {
   "cell_type": "code",
   "execution_count": 41,
   "metadata": {},
   "outputs": [],
   "source": [
    "def plot_2d (component1, component2):\n",
    "    fig = go.Figure (data = go.Scatter (\n",
    "        x = component1,\n",
    "        y = component2,\n",
    "        mode = 'markers',\n",
    "        marker = dict (\n",
    "            size = 20,\n",
    "            color = y, #set color equal to a variable\n",
    "            colorscale = 'Rainbow', # one of plotly colorscales\n",
    "            showscale = True,\n",
    "            line_width = 1\n",
    "        )\n",
    "    ))\n",
    "    fig.update_layout (margin = dict (l = 100, r = 100, b = 100, t = 100), width = 2000, height = 1200)                 \n",
    "    fig.layout.template = 'plotly_dark'\n",
    "    \n",
    "    fig.show ()"
   ]
  },
  {
   "cell_type": "code",
   "execution_count": 42,
   "metadata": {},
   "outputs": [],
   "source": [
    "def plot_3d (component1, component2, component3):\n",
    "    fig = go.Figure (data = [go.Scatter3d (\n",
    "        x = component1,\n",
    "        y = component2,\n",
    "        z = component3,\n",
    "        mode = 'markers',\n",
    "        marker = dict (\n",
    "            size = 10,\n",
    "            color = y,                # set color to an array/list of desired values\n",
    "            colorscale = 'Rainbow',   # choose a colorscale\n",
    "            opacity = 1,\n",
    "            line_width = 1\n",
    "        )\n",
    "    )])\n",
    "# tight layout\n",
    "    fig.update_layout (margin = dict (l = 50, r = 50, b = 50, t = 50), width = 1800, height = 1000)\n",
    "    fig.layout.template = 'plotly_dark'\n",
    "    \n",
    "    fig.show ()"
   ]
  },
  {
   "cell_type": "code",
   "execution_count": 43,
   "metadata": {},
   "outputs": [],
   "source": [
    "import umap\n",
    "\n",
    "reducer = umap.UMAP (n_neighbors=14, n_components = 3, random_state=10)\n",
    "embedding = reducer.fit_transform (X_scaled)"
   ]
  }
 ],
 "metadata": {
  "interpreter": {
   "hash": "18b4706ffa73b579c193e040dc2eb3f0685e80af49d525da750964bfb438d68e"
  },
  "kernelspec": {
   "display_name": "Python 3.9.7 ('base')",
   "language": "python",
   "name": "python3"
  },
  "language_info": {
   "codemirror_mode": {
    "name": "ipython",
    "version": 3
   },
   "file_extension": ".py",
   "mimetype": "text/x-python",
   "name": "python",
   "nbconvert_exporter": "python",
   "pygments_lexer": "ipython3",
   "version": "3.9.7"
  },
  "orig_nbformat": 4
 },
 "nbformat": 4,
 "nbformat_minor": 2
}
