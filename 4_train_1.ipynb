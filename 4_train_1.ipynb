{
 "cells": [
  {
   "cell_type": "code",
   "execution_count": 54,
   "metadata": {},
   "outputs": [],
   "source": [
    "import os\n",
    "from FTselection import *\n",
    "import pandas as pd\n",
    "import numpy as np\n",
    "import matplotlib.pyplot as plt\n",
    "import plotly.graph_objects as go\n",
    "import seaborn as sns\n",
    "\n",
    "from scipy.fft import fft, ifft, fft2, ifft2\n",
    "from scipy.stats import median_abs_deviation as mad\n",
    "from scipy.stats import skew, kurtosis\n",
    "\n",
    "import warnings\n",
    "warnings.filterwarnings(\"ignore\")"
   ]
  },
  {
   "cell_type": "code",
   "execution_count": 12,
   "metadata": {},
   "outputs": [],
   "source": [
    "def map_labels(pred, labels):\n",
    "    mapping = {\n",
    "        '0': -1, '1': -1, '2': -1, '3': -1, '4': -1,\n",
    "        '5': -1, '6': -1, '7': -1, '8': -1, '9': -1,\n",
    "        '10': -1, '11': -1, '12': -1, '13': -1\n",
    "    }\n",
    "    \n",
    "    for i in range(len(y)):\n",
    "        fill_done = True\n",
    "\n",
    "        for val in mapping.values():\n",
    "            if val == -1:\n",
    "                fill_done = False\n",
    "                break\n",
    "            \n",
    "        if fill_done:\n",
    "            break\n",
    "\n",
    "        if mapping[str(pred[i])] == -1:\n",
    "            mapping[str(pred[i])] = labels[i]\n",
    "\n",
    "    temp_labels = pred.copy()\n",
    "\n",
    "    for i in range(len(labels)):\n",
    "        temp_labels[i] = mapping[str(temp_labels[i])]\n",
    "        \n",
    "    return temp_labels"
   ]
  },
  {
   "cell_type": "code",
   "execution_count": 13,
   "metadata": {},
   "outputs": [
    {
     "data": {
      "text/html": [
       "<div>\n",
       "<style scoped>\n",
       "    .dataframe tbody tr th:only-of-type {\n",
       "        vertical-align: middle;\n",
       "    }\n",
       "\n",
       "    .dataframe tbody tr th {\n",
       "        vertical-align: top;\n",
       "    }\n",
       "\n",
       "    .dataframe thead th {\n",
       "        text-align: right;\n",
       "    }\n",
       "</style>\n",
       "<table border=\"1\" class=\"dataframe\">\n",
       "  <thead>\n",
       "    <tr style=\"text-align: right;\">\n",
       "      <th></th>\n",
       "      <th>labels</th>\n",
       "      <th>num_labels</th>\n",
       "      <th>FT0</th>\n",
       "      <th>FT1</th>\n",
       "      <th>FT2</th>\n",
       "      <th>FT3</th>\n",
       "      <th>FT4</th>\n",
       "      <th>FT5</th>\n",
       "      <th>FT6</th>\n",
       "      <th>FT7</th>\n",
       "      <th>...</th>\n",
       "      <th>FT38</th>\n",
       "      <th>FT39</th>\n",
       "      <th>FT40</th>\n",
       "      <th>FT41</th>\n",
       "      <th>FT42</th>\n",
       "      <th>FT43</th>\n",
       "      <th>FT44</th>\n",
       "      <th>FT45</th>\n",
       "      <th>FT46</th>\n",
       "      <th>FT47</th>\n",
       "    </tr>\n",
       "  </thead>\n",
       "  <tbody>\n",
       "    <tr>\n",
       "      <th>0</th>\n",
       "      <td>Drink_glass</td>\n",
       "      <td>0</td>\n",
       "      <td>2.694958</td>\n",
       "      <td>3.790299</td>\n",
       "      <td>6.710054</td>\n",
       "      <td>2.383583</td>\n",
       "      <td>5.213972</td>\n",
       "      <td>1.841685</td>\n",
       "      <td>1.867810</td>\n",
       "      <td>3.035190</td>\n",
       "      <td>...</td>\n",
       "      <td>11.812205</td>\n",
       "      <td>11.086036</td>\n",
       "      <td>21.077241</td>\n",
       "      <td>183.620641</td>\n",
       "      <td>133.026637</td>\n",
       "      <td>465.492918</td>\n",
       "      <td>1449.887143</td>\n",
       "      <td>2039.181048</td>\n",
       "      <td>3610.008857</td>\n",
       "      <td>63.980880</td>\n",
       "    </tr>\n",
       "    <tr>\n",
       "      <th>1</th>\n",
       "      <td>Drink_glass</td>\n",
       "      <td>0</td>\n",
       "      <td>1.527453</td>\n",
       "      <td>0.974374</td>\n",
       "      <td>8.921903</td>\n",
       "      <td>2.015233</td>\n",
       "      <td>3.964369</td>\n",
       "      <td>1.127449</td>\n",
       "      <td>0.466952</td>\n",
       "      <td>0.933905</td>\n",
       "      <td>...</td>\n",
       "      <td>9.928688</td>\n",
       "      <td>8.127150</td>\n",
       "      <td>20.714786</td>\n",
       "      <td>109.324003</td>\n",
       "      <td>73.826886</td>\n",
       "      <td>432.605228</td>\n",
       "      <td>687.353905</td>\n",
       "      <td>928.076963</td>\n",
       "      <td>4014.856571</td>\n",
       "      <td>50.457775</td>\n",
       "    </tr>\n",
       "    <tr>\n",
       "      <th>2</th>\n",
       "      <td>Drink_glass</td>\n",
       "      <td>0</td>\n",
       "      <td>2.319197</td>\n",
       "      <td>6.658395</td>\n",
       "      <td>6.480261</td>\n",
       "      <td>2.785700</td>\n",
       "      <td>2.460621</td>\n",
       "      <td>1.060052</td>\n",
       "      <td>1.167381</td>\n",
       "      <td>0.933905</td>\n",
       "      <td>...</td>\n",
       "      <td>7.937667</td>\n",
       "      <td>13.900350</td>\n",
       "      <td>15.811646</td>\n",
       "      <td>68.065921</td>\n",
       "      <td>208.462817</td>\n",
       "      <td>253.144705</td>\n",
       "      <td>626.183143</td>\n",
       "      <td>1797.766667</td>\n",
       "      <td>1749.670571</td>\n",
       "      <td>44.578268</td>\n",
       "    </tr>\n",
       "    <tr>\n",
       "      <th>3</th>\n",
       "      <td>Drink_glass</td>\n",
       "      <td>0</td>\n",
       "      <td>2.471946</td>\n",
       "      <td>2.783247</td>\n",
       "      <td>9.031703</td>\n",
       "      <td>2.035693</td>\n",
       "      <td>2.022640</td>\n",
       "      <td>0.665546</td>\n",
       "      <td>0.933905</td>\n",
       "      <td>1.400857</td>\n",
       "      <td>...</td>\n",
       "      <td>11.293990</td>\n",
       "      <td>11.551437</td>\n",
       "      <td>18.619167</td>\n",
       "      <td>143.816928</td>\n",
       "      <td>163.188645</td>\n",
       "      <td>346.067768</td>\n",
       "      <td>875.068762</td>\n",
       "      <td>985.269524</td>\n",
       "      <td>3197.222952</td>\n",
       "      <td>43.722931</td>\n",
       "    </tr>\n",
       "    <tr>\n",
       "      <th>4</th>\n",
       "      <td>Drink_glass</td>\n",
       "      <td>0</td>\n",
       "      <td>1.283190</td>\n",
       "      <td>1.631856</td>\n",
       "      <td>8.931548</td>\n",
       "      <td>2.400873</td>\n",
       "      <td>3.597436</td>\n",
       "      <td>1.194292</td>\n",
       "      <td>0.466952</td>\n",
       "      <td>1.400857</td>\n",
       "      <td>...</td>\n",
       "      <td>11.768623</td>\n",
       "      <td>9.485888</td>\n",
       "      <td>26.825795</td>\n",
       "      <td>150.283564</td>\n",
       "      <td>95.972407</td>\n",
       "      <td>727.152448</td>\n",
       "      <td>1046.724374</td>\n",
       "      <td>1276.559294</td>\n",
       "      <td>6734.387238</td>\n",
       "      <td>61.130331</td>\n",
       "    </tr>\n",
       "  </tbody>\n",
       "</table>\n",
       "<p>5 rows × 50 columns</p>\n",
       "</div>"
      ],
      "text/plain": [
       "        labels  num_labels       FT0       FT1       FT2       FT3       FT4  \\\n",
       "0  Drink_glass           0  2.694958  3.790299  6.710054  2.383583  5.213972   \n",
       "1  Drink_glass           0  1.527453  0.974374  8.921903  2.015233  3.964369   \n",
       "2  Drink_glass           0  2.319197  6.658395  6.480261  2.785700  2.460621   \n",
       "3  Drink_glass           0  2.471946  2.783247  9.031703  2.035693  2.022640   \n",
       "4  Drink_glass           0  1.283190  1.631856  8.931548  2.400873  3.597436   \n",
       "\n",
       "        FT5       FT6       FT7  ...       FT38       FT39       FT40  \\\n",
       "0  1.841685  1.867810  3.035190  ...  11.812205  11.086036  21.077241   \n",
       "1  1.127449  0.466952  0.933905  ...   9.928688   8.127150  20.714786   \n",
       "2  1.060052  1.167381  0.933905  ...   7.937667  13.900350  15.811646   \n",
       "3  0.665546  0.933905  1.400857  ...  11.293990  11.551437  18.619167   \n",
       "4  1.194292  0.466952  1.400857  ...  11.768623   9.485888  26.825795   \n",
       "\n",
       "         FT41        FT42        FT43         FT44         FT45         FT46  \\\n",
       "0  183.620641  133.026637  465.492918  1449.887143  2039.181048  3610.008857   \n",
       "1  109.324003   73.826886  432.605228   687.353905   928.076963  4014.856571   \n",
       "2   68.065921  208.462817  253.144705   626.183143  1797.766667  1749.670571   \n",
       "3  143.816928  163.188645  346.067768   875.068762   985.269524  3197.222952   \n",
       "4  150.283564   95.972407  727.152448  1046.724374  1276.559294  6734.387238   \n",
       "\n",
       "        FT47  \n",
       "0  63.980880  \n",
       "1  50.457775  \n",
       "2  44.578268  \n",
       "3  43.722931  \n",
       "4  61.130331  \n",
       "\n",
       "[5 rows x 50 columns]"
      ]
     },
     "execution_count": 13,
     "metadata": {},
     "output_type": "execute_result"
    }
   ],
   "source": [
    "final_df = pd.read_csv(\"data3.csv\")\n",
    "final_df = final_df.drop(columns=['Unnamed: 0'])\n",
    "final_df.head()"
   ]
  },
  {
   "cell_type": "code",
   "execution_count": 14,
   "metadata": {},
   "outputs": [],
   "source": [
    "X = final_df.drop(columns=['labels', 'num_labels'])\n",
    "y = final_df['labels']"
   ]
  },
  {
   "cell_type": "code",
   "execution_count": 15,
   "metadata": {},
   "outputs": [],
   "source": [
    "from sklearn.preprocessing import MinMaxScaler, StandardScaler, PowerTransformer\n",
    "scaler = PowerTransformer()\n",
    "scaler.fit(X)\n",
    "X_scaled = scaler.transform(X)"
   ]
  },
  {
   "cell_type": "code",
   "execution_count": 16,
   "metadata": {},
   "outputs": [],
   "source": [
    "from sklearn.preprocessing import LabelEncoder\n",
    "LaEn = LabelEncoder()\n",
    "LaEn.fit(y)\n",
    "y_en = LaEn.transform(y)"
   ]
  },
  {
   "cell_type": "code",
   "execution_count": 17,
   "metadata": {},
   "outputs": [],
   "source": [
    "from sklearn.decomposition import PCA\n",
    "\n",
    "pca = PCA (n_components = 10, random_state=1089)\n",
    "data_PCA = pca.fit (X_scaled).transform (X_scaled)\n",
    "# data_PCA = pca.fit (X).transform (X)"
   ]
  },
  {
   "cell_type": "code",
   "execution_count": 18,
   "metadata": {},
   "outputs": [
    {
     "name": "stdout",
     "output_type": "stream",
     "text": [
      "Explained variance ratio (first ten components): \n",
      "[0.2428756  0.21223876 0.1783519  0.07952954 0.04494329 0.039571\n",
      " 0.02617957 0.02445624 0.01786287 0.01686655]\n"
     ]
    },
    {
     "data": {
      "text/plain": [
       "0.8828753187554325"
      ]
     },
     "execution_count": 18,
     "metadata": {},
     "output_type": "execute_result"
    }
   ],
   "source": [
    "print ('Explained variance ratio (first ten components): \\n%s'\n",
    "    % str (pca.explained_variance_ratio_))\n",
    "\n",
    "sum(pca.explained_variance_ratio_)"
   ]
  },
  {
   "cell_type": "code",
   "execution_count": 19,
   "metadata": {},
   "outputs": [
    {
     "data": {
      "text/html": [
       "<div>\n",
       "<style scoped>\n",
       "    .dataframe tbody tr th:only-of-type {\n",
       "        vertical-align: middle;\n",
       "    }\n",
       "\n",
       "    .dataframe tbody tr th {\n",
       "        vertical-align: top;\n",
       "    }\n",
       "\n",
       "    .dataframe thead th {\n",
       "        text-align: right;\n",
       "    }\n",
       "</style>\n",
       "<table border=\"1\" class=\"dataframe\">\n",
       "  <thead>\n",
       "    <tr style=\"text-align: right;\">\n",
       "      <th></th>\n",
       "      <th>PC1</th>\n",
       "      <th>PC2</th>\n",
       "      <th>PC3</th>\n",
       "      <th>PC4</th>\n",
       "      <th>PC5</th>\n",
       "      <th>PC6</th>\n",
       "      <th>PC7</th>\n",
       "      <th>PC8</th>\n",
       "      <th>PC9</th>\n",
       "      <th>PC10</th>\n",
       "    </tr>\n",
       "  </thead>\n",
       "  <tbody>\n",
       "    <tr>\n",
       "      <th>0</th>\n",
       "      <td>-3.900776</td>\n",
       "      <td>3.413824</td>\n",
       "      <td>1.074531</td>\n",
       "      <td>0.731540</td>\n",
       "      <td>-2.843216</td>\n",
       "      <td>0.472149</td>\n",
       "      <td>1.314840</td>\n",
       "      <td>-2.594886</td>\n",
       "      <td>-0.671618</td>\n",
       "      <td>0.363083</td>\n",
       "    </tr>\n",
       "    <tr>\n",
       "      <th>1</th>\n",
       "      <td>-5.447159</td>\n",
       "      <td>2.404792</td>\n",
       "      <td>-1.139556</td>\n",
       "      <td>-2.440313</td>\n",
       "      <td>1.302580</td>\n",
       "      <td>-0.477933</td>\n",
       "      <td>-1.671628</td>\n",
       "      <td>-0.670473</td>\n",
       "      <td>-1.701619</td>\n",
       "      <td>0.120980</td>\n",
       "    </tr>\n",
       "    <tr>\n",
       "      <th>2</th>\n",
       "      <td>-5.517813</td>\n",
       "      <td>0.550271</td>\n",
       "      <td>-1.466039</td>\n",
       "      <td>2.594298</td>\n",
       "      <td>-2.928699</td>\n",
       "      <td>1.051387</td>\n",
       "      <td>-1.085567</td>\n",
       "      <td>-1.021418</td>\n",
       "      <td>-1.552004</td>\n",
       "      <td>0.320423</td>\n",
       "    </tr>\n",
       "    <tr>\n",
       "      <th>3</th>\n",
       "      <td>-5.145028</td>\n",
       "      <td>2.217152</td>\n",
       "      <td>-2.084208</td>\n",
       "      <td>-1.086351</td>\n",
       "      <td>0.019246</td>\n",
       "      <td>-0.027569</td>\n",
       "      <td>-1.307235</td>\n",
       "      <td>-0.243417</td>\n",
       "      <td>-0.669058</td>\n",
       "      <td>0.673836</td>\n",
       "    </tr>\n",
       "    <tr>\n",
       "      <th>4</th>\n",
       "      <td>-3.459956</td>\n",
       "      <td>4.129119</td>\n",
       "      <td>0.402800</td>\n",
       "      <td>-2.116078</td>\n",
       "      <td>1.222313</td>\n",
       "      <td>-0.125950</td>\n",
       "      <td>-0.505973</td>\n",
       "      <td>0.890509</td>\n",
       "      <td>-2.035717</td>\n",
       "      <td>0.287007</td>\n",
       "    </tr>\n",
       "  </tbody>\n",
       "</table>\n",
       "</div>"
      ],
      "text/plain": [
       "        PC1       PC2       PC3       PC4       PC5       PC6       PC7  \\\n",
       "0 -3.900776  3.413824  1.074531  0.731540 -2.843216  0.472149  1.314840   \n",
       "1 -5.447159  2.404792 -1.139556 -2.440313  1.302580 -0.477933 -1.671628   \n",
       "2 -5.517813  0.550271 -1.466039  2.594298 -2.928699  1.051387 -1.085567   \n",
       "3 -5.145028  2.217152 -2.084208 -1.086351  0.019246 -0.027569 -1.307235   \n",
       "4 -3.459956  4.129119  0.402800 -2.116078  1.222313 -0.125950 -0.505973   \n",
       "\n",
       "        PC8       PC9      PC10  \n",
       "0 -2.594886 -0.671618  0.363083  \n",
       "1 -0.670473 -1.701619  0.120980  \n",
       "2 -1.021418 -1.552004  0.320423  \n",
       "3 -0.243417 -0.669058  0.673836  \n",
       "4  0.890509 -2.035717  0.287007  "
      ]
     },
     "execution_count": 19,
     "metadata": {},
     "output_type": "execute_result"
    }
   ],
   "source": [
    "n = pca.n_components_\n",
    "cols = ['PC'+str(i) for i in range(1,n+1)]\n",
    "df_PCA = pd.DataFrame(data=data_PCA, columns=cols)\n",
    "df_PCA.head()"
   ]
  },
  {
   "cell_type": "code",
   "execution_count": 20,
   "metadata": {},
   "outputs": [
    {
     "data": {
      "image/png": "[encoded data removed]",
      "text/plain": [
       "<Figure size 432x432 with 1 Axes>"
      ]
     },
     "metadata": {
      "needs_background": "light"
     },
     "output_type": "display_data"
    }
   ],
   "source": [
    "from sklearn.cluster import KMeans\n",
    "# Run the Kmeans algorithm and get the index of data points clusters\n",
    "\n",
    "sse = []\n",
    "list_k = list(range(1, 20))\n",
    "\n",
    "for k in list_k:\n",
    "    km = KMeans(n_clusters=k)\n",
    "    km.fit(X_scaled)\n",
    "    sse.append(km.inertia_)\n",
    "\n",
    "# Plot sse against k\n",
    "plt.figure(figsize=(6, 6))\n",
    "plt.plot(list_k, sse, '-o')\n",
    "plt.xlabel(r'Number of clusters *k*')\n",
    "plt.ylabel('Sum of squared distance');"
   ]
  },
  {
   "cell_type": "code",
   "execution_count": 21,
   "metadata": {},
   "outputs": [
    {
     "data": {
      "text/html": [
       "<div>\n",
       "<style scoped>\n",
       "    .dataframe tbody tr th:only-of-type {\n",
       "        vertical-align: middle;\n",
       "    }\n",
       "\n",
       "    .dataframe tbody tr th {\n",
       "        vertical-align: top;\n",
       "    }\n",
       "\n",
       "    .dataframe thead th {\n",
       "        text-align: right;\n",
       "    }\n",
       "</style>\n",
       "<table border=\"1\" class=\"dataframe\">\n",
       "  <thead>\n",
       "    <tr style=\"text-align: right;\">\n",
       "      <th></th>\n",
       "      <th>PC1</th>\n",
       "      <th>PC2</th>\n",
       "      <th>PC3</th>\n",
       "      <th>PC4</th>\n",
       "      <th>PC5</th>\n",
       "      <th>PC6</th>\n",
       "      <th>PC7</th>\n",
       "      <th>PC8</th>\n",
       "      <th>PC9</th>\n",
       "      <th>PC10</th>\n",
       "      <th>Cluster</th>\n",
       "    </tr>\n",
       "  </thead>\n",
       "  <tbody>\n",
       "    <tr>\n",
       "      <th>0</th>\n",
       "      <td>-3.900776</td>\n",
       "      <td>3.413824</td>\n",
       "      <td>1.074531</td>\n",
       "      <td>0.731540</td>\n",
       "      <td>-2.843216</td>\n",
       "      <td>0.472149</td>\n",
       "      <td>1.314840</td>\n",
       "      <td>-2.594886</td>\n",
       "      <td>-0.671618</td>\n",
       "      <td>0.363083</td>\n",
       "      <td>0</td>\n",
       "    </tr>\n",
       "    <tr>\n",
       "      <th>1</th>\n",
       "      <td>-5.447159</td>\n",
       "      <td>2.404792</td>\n",
       "      <td>-1.139556</td>\n",
       "      <td>-2.440313</td>\n",
       "      <td>1.302580</td>\n",
       "      <td>-0.477933</td>\n",
       "      <td>-1.671628</td>\n",
       "      <td>-0.670473</td>\n",
       "      <td>-1.701619</td>\n",
       "      <td>0.120980</td>\n",
       "      <td>4</td>\n",
       "    </tr>\n",
       "    <tr>\n",
       "      <th>2</th>\n",
       "      <td>-5.517813</td>\n",
       "      <td>0.550271</td>\n",
       "      <td>-1.466039</td>\n",
       "      <td>2.594298</td>\n",
       "      <td>-2.928699</td>\n",
       "      <td>1.051387</td>\n",
       "      <td>-1.085567</td>\n",
       "      <td>-1.021418</td>\n",
       "      <td>-1.552004</td>\n",
       "      <td>0.320423</td>\n",
       "      <td>0</td>\n",
       "    </tr>\n",
       "    <tr>\n",
       "      <th>3</th>\n",
       "      <td>-5.145028</td>\n",
       "      <td>2.217152</td>\n",
       "      <td>-2.084208</td>\n",
       "      <td>-1.086351</td>\n",
       "      <td>0.019246</td>\n",
       "      <td>-0.027569</td>\n",
       "      <td>-1.307235</td>\n",
       "      <td>-0.243417</td>\n",
       "      <td>-0.669058</td>\n",
       "      <td>0.673836</td>\n",
       "      <td>0</td>\n",
       "    </tr>\n",
       "    <tr>\n",
       "      <th>4</th>\n",
       "      <td>-3.459956</td>\n",
       "      <td>4.129119</td>\n",
       "      <td>0.402800</td>\n",
       "      <td>-2.116078</td>\n",
       "      <td>1.222313</td>\n",
       "      <td>-0.125950</td>\n",
       "      <td>-0.505973</td>\n",
       "      <td>0.890509</td>\n",
       "      <td>-2.035717</td>\n",
       "      <td>0.287007</td>\n",
       "      <td>0</td>\n",
       "    </tr>\n",
       "    <tr>\n",
       "      <th>5</th>\n",
       "      <td>-6.034230</td>\n",
       "      <td>0.181407</td>\n",
       "      <td>-2.697628</td>\n",
       "      <td>-4.265914</td>\n",
       "      <td>0.458393</td>\n",
       "      <td>-0.267109</td>\n",
       "      <td>-0.972624</td>\n",
       "      <td>0.923924</td>\n",
       "      <td>-0.523742</td>\n",
       "      <td>0.366706</td>\n",
       "      <td>4</td>\n",
       "    </tr>\n",
       "    <tr>\n",
       "      <th>6</th>\n",
       "      <td>-5.655054</td>\n",
       "      <td>1.912264</td>\n",
       "      <td>0.932673</td>\n",
       "      <td>-0.927683</td>\n",
       "      <td>-1.318370</td>\n",
       "      <td>-0.068816</td>\n",
       "      <td>-0.267885</td>\n",
       "      <td>-0.221836</td>\n",
       "      <td>-0.105808</td>\n",
       "      <td>-0.589187</td>\n",
       "      <td>0</td>\n",
       "    </tr>\n",
       "    <tr>\n",
       "      <th>7</th>\n",
       "      <td>-5.862554</td>\n",
       "      <td>2.206742</td>\n",
       "      <td>-0.161136</td>\n",
       "      <td>-2.369760</td>\n",
       "      <td>-0.852519</td>\n",
       "      <td>-0.739211</td>\n",
       "      <td>0.327988</td>\n",
       "      <td>-0.829802</td>\n",
       "      <td>-0.289591</td>\n",
       "      <td>0.675120</td>\n",
       "      <td>0</td>\n",
       "    </tr>\n",
       "    <tr>\n",
       "      <th>8</th>\n",
       "      <td>-5.425043</td>\n",
       "      <td>2.562701</td>\n",
       "      <td>-0.564843</td>\n",
       "      <td>-0.004613</td>\n",
       "      <td>-1.750214</td>\n",
       "      <td>0.468554</td>\n",
       "      <td>0.489462</td>\n",
       "      <td>-0.817312</td>\n",
       "      <td>-1.027160</td>\n",
       "      <td>0.289725</td>\n",
       "      <td>0</td>\n",
       "    </tr>\n",
       "    <tr>\n",
       "      <th>9</th>\n",
       "      <td>-4.502974</td>\n",
       "      <td>1.237832</td>\n",
       "      <td>-0.059155</td>\n",
       "      <td>2.303030</td>\n",
       "      <td>-2.197991</td>\n",
       "      <td>1.332751</td>\n",
       "      <td>0.194365</td>\n",
       "      <td>-0.497203</td>\n",
       "      <td>-0.850331</td>\n",
       "      <td>1.038379</td>\n",
       "      <td>0</td>\n",
       "    </tr>\n",
       "  </tbody>\n",
       "</table>\n",
       "</div>"
      ],
      "text/plain": [
       "        PC1       PC2       PC3       PC4       PC5       PC6       PC7  \\\n",
       "0 -3.900776  3.413824  1.074531  0.731540 -2.843216  0.472149  1.314840   \n",
       "1 -5.447159  2.404792 -1.139556 -2.440313  1.302580 -0.477933 -1.671628   \n",
       "2 -5.517813  0.550271 -1.466039  2.594298 -2.928699  1.051387 -1.085567   \n",
       "3 -5.145028  2.217152 -2.084208 -1.086351  0.019246 -0.027569 -1.307235   \n",
       "4 -3.459956  4.129119  0.402800 -2.116078  1.222313 -0.125950 -0.505973   \n",
       "5 -6.034230  0.181407 -2.697628 -4.265914  0.458393 -0.267109 -0.972624   \n",
       "6 -5.655054  1.912264  0.932673 -0.927683 -1.318370 -0.068816 -0.267885   \n",
       "7 -5.862554  2.206742 -0.161136 -2.369760 -0.852519 -0.739211  0.327988   \n",
       "8 -5.425043  2.562701 -0.564843 -0.004613 -1.750214  0.468554  0.489462   \n",
       "9 -4.502974  1.237832 -0.059155  2.303030 -2.197991  1.332751  0.194365   \n",
       "\n",
       "        PC8       PC9      PC10  Cluster  \n",
       "0 -2.594886 -0.671618  0.363083        0  \n",
       "1 -0.670473 -1.701619  0.120980        4  \n",
       "2 -1.021418 -1.552004  0.320423        0  \n",
       "3 -0.243417 -0.669058  0.673836        0  \n",
       "4  0.890509 -2.035717  0.287007        0  \n",
       "5  0.923924 -0.523742  0.366706        4  \n",
       "6 -0.221836 -0.105808 -0.589187        0  \n",
       "7 -0.829802 -0.289591  0.675120        0  \n",
       "8 -0.817312 -1.027160  0.289725        0  \n",
       "9 -0.497203 -0.850331  1.038379        0  "
      ]
     },
     "execution_count": 21,
     "metadata": {},
     "output_type": "execute_result"
    }
   ],
   "source": [
    "kmean = KMeans(n_clusters=14)\n",
    "df_PCA['Cluster'] = kmean.fit_predict(df_PCA)\n",
    "\n",
    "df_PCA.head(10)"
   ]
  },
  {
   "cell_type": "code",
   "execution_count": 22,
   "metadata": {},
   "outputs": [
    {
     "name": "stdout",
     "output_type": "stream",
     "text": [
      "0.7558839155532475\n"
     ]
    }
   ],
   "source": [
    "from sklearn.metrics import accuracy_score, completeness_score\n",
    "\n",
    "mapped_pred = map_labels(df_PCA['Cluster'], y_en)\n",
    "print(completeness_score(y_en, mapped_pred))"
   ]
  },
  {
   "cell_type": "markdown",
   "metadata": {},
   "source": [
    "# UMAP"
   ]
  },
  {
   "cell_type": "code",
   "execution_count": 23,
   "metadata": {},
   "outputs": [],
   "source": [
    "from sklearn.preprocessing import MinMaxScaler, StandardScaler, MaxAbsScaler, PowerTransformer, SplineTransformer\n",
    "# scaler = MinMaxScaler(feature_range=(0,1)) # comp: 72.56%, acc: 33.01%\n",
    "# scaler = SplineTransformer() # comp: 73,29%, acc: 28,12%\n",
    "# scaler = StandardScaler()   # comp: 67.24%, acc: 44.69%\n",
    "scaler = PowerTransformer() # comp: 76.72%, acc: 38.02%\n",
    "scaler.fit(X)\n",
    "X_scaled = scaler.transform(X)"
   ]
  },
  {
   "cell_type": "code",
   "execution_count": 24,
   "metadata": {},
   "outputs": [],
   "source": [
    "from sklearn.preprocessing import LabelEncoder\n",
    "LaEn = LabelEncoder()\n",
    "LaEn.fit(y)\n",
    "y_en = LaEn.transform(y)"
   ]
  },
  {
   "cell_type": "code",
   "execution_count": 25,
   "metadata": {},
   "outputs": [],
   "source": [
    "def plot_2d (component1, component2):\n",
    "    fig = go.Figure (data = go.Scatter (\n",
    "        x = component1,\n",
    "        y = component2,\n",
    "        mode = 'markers',\n",
    "        marker = dict (\n",
    "            size = 20,\n",
    "            color = y, #set color equal to a variable\n",
    "            colorscale = 'Rainbow', # one of plotly colorscales\n",
    "            showscale = True,\n",
    "            line_width = 1\n",
    "        )\n",
    "    ))\n",
    "    fig.update_layout (margin = dict (l = 100, r = 100, b = 100, t = 100), width = 2000, height = 1200)                 \n",
    "    fig.layout.template = 'plotly_dark'\n",
    "    \n",
    "    fig.show ()"
   ]
  },
  {
   "cell_type": "code",
   "execution_count": 26,
   "metadata": {},
   "outputs": [],
   "source": [
    "def plot_3d (component1, component2, component3):\n",
    "    fig = go.Figure (data = [go.Scatter3d (\n",
    "        x = component1,\n",
    "        y = component2,\n",
    "        z = component3,\n",
    "        mode = 'markers',\n",
    "        marker = dict (\n",
    "            size = 10,\n",
    "            color = y,                # set color to an array/list of desired values\n",
    "            colorscale = 'Rainbow',   # choose a colorscale\n",
    "            opacity = 1,\n",
    "            line_width = 1\n",
    "        )\n",
    "    )])\n",
    "# tight layout\n",
    "    fig.update_layout (margin = dict (l = 50, r = 50, b = 50, t = 50), width = 1800, height = 1000)\n",
    "    fig.layout.template = 'plotly_dark'\n",
    "    \n",
    "    fig.show ()"
   ]
  },
  {
   "cell_type": "code",
   "execution_count": 27,
   "metadata": {},
   "outputs": [],
   "source": [
    "import umap\n",
    "\n",
    "reducer = umap.UMAP (n_neighbors=14, n_components = 3, random_state=10)\n",
    "embedding = reducer.fit_transform (X_scaled)"
   ]
  },
  {
   "cell_type": "code",
   "execution_count": null,
   "metadata": {},
   "outputs": [],
   "source": [
    "import plotly.io as plt_io\n",
    "plt_io.renderers.default = \"notebook\"\n",
    "\n",
    "plot_3d (reducer.embedding_ [:, 0], reducer.embedding_ [:, 1], reducer.embedding_ [:, 2])"
   ]
  },
  {
   "cell_type": "code",
   "execution_count": 29,
   "metadata": {},
   "outputs": [
    {
     "data": {
      "image/png": "[encoded data removed]",
      "text/plain": [
       "<Figure size 432x432 with 1 Axes>"
      ]
     },
     "metadata": {
      "needs_background": "light"
     },
     "output_type": "display_data"
    }
   ],
   "source": [
    "from sklearn.cluster import KMeans\n",
    "# Run the Kmeans algorithm and get the index of data points clusters\n",
    "\n",
    "sse = []\n",
    "list_k = list(range(1, 20))\n",
    "\n",
    "for k in list_k:\n",
    "    km = KMeans(n_clusters=k, random_state=20418)\n",
    "    km.fit(embedding)\n",
    "    sse.append(km.inertia_)\n",
    "\n",
    "# Plot sse against k\n",
    "plt.figure(figsize=(6, 6))\n",
    "plt.plot(list_k, sse, '-o')\n",
    "plt.xlabel(r'Number of clusters *k*')\n",
    "plt.ylabel('Sum of squared distance');"
   ]
  },
  {
   "cell_type": "code",
   "execution_count": 30,
   "metadata": {},
   "outputs": [
    {
     "data": {
      "text/html": [
       "<div>\n",
       "<style scoped>\n",
       "    .dataframe tbody tr th:only-of-type {\n",
       "        vertical-align: middle;\n",
       "    }\n",
       "\n",
       "    .dataframe tbody tr th {\n",
       "        vertical-align: top;\n",
       "    }\n",
       "\n",
       "    .dataframe thead th {\n",
       "        text-align: right;\n",
       "    }\n",
       "</style>\n",
       "<table border=\"1\" class=\"dataframe\">\n",
       "  <thead>\n",
       "    <tr style=\"text-align: right;\">\n",
       "      <th></th>\n",
       "      <th>0</th>\n",
       "      <th>1</th>\n",
       "      <th>2</th>\n",
       "    </tr>\n",
       "  </thead>\n",
       "  <tbody>\n",
       "    <tr>\n",
       "      <th>0</th>\n",
       "      <td>13.643744</td>\n",
       "      <td>2.889538</td>\n",
       "      <td>9.604319</td>\n",
       "    </tr>\n",
       "    <tr>\n",
       "      <th>1</th>\n",
       "      <td>12.800976</td>\n",
       "      <td>2.175780</td>\n",
       "      <td>8.898661</td>\n",
       "    </tr>\n",
       "    <tr>\n",
       "      <th>2</th>\n",
       "      <td>13.986165</td>\n",
       "      <td>2.319755</td>\n",
       "      <td>10.014581</td>\n",
       "    </tr>\n",
       "    <tr>\n",
       "      <th>3</th>\n",
       "      <td>13.043922</td>\n",
       "      <td>1.913486</td>\n",
       "      <td>9.002362</td>\n",
       "    </tr>\n",
       "    <tr>\n",
       "      <th>4</th>\n",
       "      <td>12.615659</td>\n",
       "      <td>2.394105</td>\n",
       "      <td>8.930883</td>\n",
       "    </tr>\n",
       "  </tbody>\n",
       "</table>\n",
       "</div>"
      ],
      "text/plain": [
       "           0         1          2\n",
       "0  13.643744  2.889538   9.604319\n",
       "1  12.800976  2.175780   8.898661\n",
       "2  13.986165  2.319755  10.014581\n",
       "3  13.043922  1.913486   9.002362\n",
       "4  12.615659  2.394105   8.930883"
      ]
     },
     "execution_count": 30,
     "metadata": {},
     "output_type": "execute_result"
    }
   ],
   "source": [
    "df_UMAP = pd.DataFrame(data=embedding)\n",
    "df_UMAP.head()"
   ]
  },
  {
   "cell_type": "code",
   "execution_count": 31,
   "metadata": {},
   "outputs": [
    {
     "data": {
      "text/html": [
       "<div>\n",
       "<style scoped>\n",
       "    .dataframe tbody tr th:only-of-type {\n",
       "        vertical-align: middle;\n",
       "    }\n",
       "\n",
       "    .dataframe tbody tr th {\n",
       "        vertical-align: top;\n",
       "    }\n",
       "\n",
       "    .dataframe thead th {\n",
       "        text-align: right;\n",
       "    }\n",
       "</style>\n",
       "<table border=\"1\" class=\"dataframe\">\n",
       "  <thead>\n",
       "    <tr style=\"text-align: right;\">\n",
       "      <th></th>\n",
       "      <th>0</th>\n",
       "      <th>1</th>\n",
       "      <th>2</th>\n",
       "      <th>Cluster</th>\n",
       "    </tr>\n",
       "  </thead>\n",
       "  <tbody>\n",
       "    <tr>\n",
       "      <th>0</th>\n",
       "      <td>13.643744</td>\n",
       "      <td>2.889538</td>\n",
       "      <td>9.604319</td>\n",
       "      <td>12</td>\n",
       "    </tr>\n",
       "    <tr>\n",
       "      <th>1</th>\n",
       "      <td>12.800976</td>\n",
       "      <td>2.175780</td>\n",
       "      <td>8.898661</td>\n",
       "      <td>1</td>\n",
       "    </tr>\n",
       "    <tr>\n",
       "      <th>2</th>\n",
       "      <td>13.986165</td>\n",
       "      <td>2.319755</td>\n",
       "      <td>10.014581</td>\n",
       "      <td>12</td>\n",
       "    </tr>\n",
       "    <tr>\n",
       "      <th>3</th>\n",
       "      <td>13.043922</td>\n",
       "      <td>1.913486</td>\n",
       "      <td>9.002362</td>\n",
       "      <td>1</td>\n",
       "    </tr>\n",
       "    <tr>\n",
       "      <th>4</th>\n",
       "      <td>12.615659</td>\n",
       "      <td>2.394105</td>\n",
       "      <td>8.930883</td>\n",
       "      <td>1</td>\n",
       "    </tr>\n",
       "  </tbody>\n",
       "</table>\n",
       "</div>"
      ],
      "text/plain": [
       "           0         1          2  Cluster\n",
       "0  13.643744  2.889538   9.604319       12\n",
       "1  12.800976  2.175780   8.898661        1\n",
       "2  13.986165  2.319755  10.014581       12\n",
       "3  13.043922  1.913486   9.002362        1\n",
       "4  12.615659  2.394105   8.930883        1"
      ]
     },
     "execution_count": 31,
     "metadata": {},
     "output_type": "execute_result"
    }
   ],
   "source": [
    "kmean = KMeans(n_clusters=14, random_state=89)\n",
    "df_UMAP['Cluster'] = kmean.fit_predict(df_UMAP)\n",
    "df_UMAP.head(5)"
   ]
  },
  {
   "cell_type": "code",
   "execution_count": 32,
   "metadata": {},
   "outputs": [
    {
     "name": "stdout",
     "output_type": "stream",
     "text": [
      "0.7792103598322366\n"
     ]
    }
   ],
   "source": [
    "from sklearn.metrics import classification_report , accuracy_score, completeness_score, precision_score\n",
    "\n",
    "mapped_pred = map_labels(df_UMAP['Cluster'], y_en)\n",
    "print(completeness_score(y_en, mapped_pred))"
   ]
  },
  {
   "cell_type": "code",
   "execution_count": 33,
   "metadata": {},
   "outputs": [],
   "source": [
    "best_acc_model = None\n",
    "best_comp_model = None\n",
    "best_acc_acc, best_acc_comp = 0, 0\n",
    "best_comp_acc, best_comp_comp = 0, 0\n",
    "n_iter = 1000\n",
    "\n",
    "comps = []\n",
    "accs = []\n",
    "\n",
    "\n",
    "for i in range(n_iter):\n",
    "    kmeans = KMeans(n_clusters=14)\n",
    "    pred = kmeans.fit_predict(embedding)\n",
    "    pred = map_labels(pred, y_en)\n",
    "\n",
    "    acc = accuracy_score(pred, y_en)\n",
    "    comp = completeness_score(y_en, pred)\n",
    "    \n",
    "    accs.append(acc)\n",
    "    comps.append(comp)\n",
    "    \n",
    "    if acc > best_acc_acc:\n",
    "        best_acc_acc = acc\n",
    "        best_acc_comp = comp\n",
    "        best_acc_model = kmeans\n",
    "        \n",
    "    if comp > best_comp_comp:\n",
    "        best_comp_acc = acc\n",
    "        best_comp_comp = comp\n",
    "        best_comp_model = kmeans"
   ]
  },
  {
   "cell_type": "code",
   "execution_count": null,
   "metadata": {},
   "outputs": [
    {
     "data": {
      "text/plain": [
       "<AxesSubplot:ylabel='Count'>"
      ]
     },
     "execution_count": 51,
     "metadata": {},
     "output_type": "execute_result"
    },
    {
     "data": {
      "image/png": "[encoded data removed]",
      "text/plain": [
       "<Figure size 432x288 with 1 Axes>"
      ]
     },
     "metadata": {
      "needs_background": "light"
     },
     "output_type": "display_data"
    }
   ],
   "source": [
    "sns.histplot(comps)"
   ]
  },
  {
   "cell_type": "code",
   "execution_count": null,
   "metadata": {},
   "outputs": [
    {
     "data": {
      "text/plain": [
       "(0.4231227651966627, 0.7486110894603896)"
      ]
     },
     "execution_count": 52,
     "metadata": {},
     "output_type": "execute_result"
    }
   ],
   "source": [
    "best_acc_acc, best_acc_comp"
   ]
  },
  {
   "cell_type": "code",
   "execution_count": null,
   "metadata": {},
   "outputs": [
    {
     "data": {
      "text/plain": [
       "(0.41477949940405245, 0.8456784665040781)"
      ]
     },
     "execution_count": 53,
     "metadata": {},
     "output_type": "execute_result"
    }
   ],
   "source": [
    "best_comp_acc, best_comp_comp"
   ]
  },
  {
   "cell_type": "code",
   "execution_count": null,
   "metadata": {},
   "outputs": [
    {
     "data": {
      "text/plain": [
       "<AxesSubplot:>"
      ]
     },
     "execution_count": 224,
     "metadata": {},
     "output_type": "execute_result"
    },
    {
     "data": {
      "image/png": "[encoded data removed]",
      "text/plain": [
       "<Figure size 432x288 with 1 Axes>"
      ]
     },
     "metadata": {
      "needs_background": "light"
     },
     "output_type": "display_data"
    }
   ],
   "source": [
    "sns.scatterplot(x=accs, y=comps)"
   ]
  },
  {
   "cell_type": "code",
   "execution_count": 47,
   "metadata": {},
   "outputs": [
    {
     "data": {
      "text/html": [
       "<div>\n",
       "<style scoped>\n",
       "    .dataframe tbody tr th:only-of-type {\n",
       "        vertical-align: middle;\n",
       "    }\n",
       "\n",
       "    .dataframe tbody tr th {\n",
       "        vertical-align: top;\n",
       "    }\n",
       "\n",
       "    .dataframe thead th {\n",
       "        text-align: right;\n",
       "    }\n",
       "</style>\n",
       "<table border=\"1\" class=\"dataframe\">\n",
       "  <thead>\n",
       "    <tr style=\"text-align: right;\">\n",
       "      <th></th>\n",
       "      <th>0</th>\n",
       "      <th>1</th>\n",
       "      <th>2</th>\n",
       "    </tr>\n",
       "  </thead>\n",
       "  <tbody>\n",
       "    <tr>\n",
       "      <th>0</th>\n",
       "      <td>8.404653</td>\n",
       "      <td>4.739290</td>\n",
       "      <td>5.885244</td>\n",
       "    </tr>\n",
       "    <tr>\n",
       "      <th>1</th>\n",
       "      <td>-0.675475</td>\n",
       "      <td>5.817407</td>\n",
       "      <td>8.523111</td>\n",
       "    </tr>\n",
       "    <tr>\n",
       "      <th>2</th>\n",
       "      <td>13.718981</td>\n",
       "      <td>2.332353</td>\n",
       "      <td>9.479940</td>\n",
       "    </tr>\n",
       "    <tr>\n",
       "      <th>3</th>\n",
       "      <td>6.887869</td>\n",
       "      <td>9.317850</td>\n",
       "      <td>8.476186</td>\n",
       "    </tr>\n",
       "    <tr>\n",
       "      <th>4</th>\n",
       "      <td>-0.256556</td>\n",
       "      <td>1.121217</td>\n",
       "      <td>6.361268</td>\n",
       "    </tr>\n",
       "  </tbody>\n",
       "</table>\n",
       "</div>"
      ],
      "text/plain": [
       "           0         1         2\n",
       "0   8.404653  4.739290  5.885244\n",
       "1  -0.675475  5.817407  8.523111\n",
       "2  13.718981  2.332353  9.479940\n",
       "3   6.887869  9.317850  8.476186\n",
       "4  -0.256556  1.121217  6.361268"
      ]
     },
     "execution_count": 47,
     "metadata": {},
     "output_type": "execute_result"
    }
   ],
   "source": [
    "best_comp_cen = pd.read_csv('Best_centroid2.csv')\n",
    "best_comp_cen = best_comp_cen.drop(columns=['Unnamed: 0'])\n",
    "best_comp_cen.head()"
   ]
  },
  {
   "cell_type": "code",
   "execution_count": 48,
   "metadata": {},
   "outputs": [],
   "source": [
    "kmeans = KMeans(n_clusters=14, init=best_comp_cen.values)\n",
    "pred = kmeans.fit_predict(embedding)\n",
    "pred = map_labels(pred, y_en)"
   ]
  },
  {
   "cell_type": "code",
   "execution_count": 49,
   "metadata": {},
   "outputs": [
    {
     "data": {
      "text/plain": [
       "0.8456784665040781"
      ]
     },
     "execution_count": 49,
     "metadata": {},
     "output_type": "execute_result"
    }
   ],
   "source": [
    "completeness_score(y_en, pred)"
   ]
  },
  {
   "cell_type": "code",
   "execution_count": 50,
   "metadata": {},
   "outputs": [
    {
     "data": {
      "text/plain": [
       "0.41477949940405245"
      ]
     },
     "execution_count": 50,
     "metadata": {},
     "output_type": "execute_result"
    }
   ],
   "source": [
    "accuracy_score(y_en, pred)"
   ]
  }
 ],
 "metadata": {
  "interpreter": {
   "hash": "18b4706ffa73b579c193e040dc2eb3f0685e80af49d525da750964bfb438d68e"
  },
  "kernelspec": {
   "display_name": "Python 3.9.7 ('base')",
   "language": "python",
   "name": "python3"
  },
  "language_info": {
   "codemirror_mode": {
    "name": "ipython",
    "version": 3
   },
   "file_extension": ".py",
   "mimetype": "text/x-python",
   "name": "python",
   "nbconvert_exporter": "python",
   "pygments_lexer": "ipython3",
   "version": "3.9.7"
  },
  "orig_nbformat": 4
 },
 "nbformat": 4,
 "nbformat_minor": 2
}
